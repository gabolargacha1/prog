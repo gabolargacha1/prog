{
  "nbformat": 4,
  "nbformat_minor": 0,
  "metadata": {
    "colab": {
      "name": "2Clase.ipynb",
      "provenance": [],
      "authorship_tag": "ABX9TyPmMDpdIoQFY9s9L3yq/v1B",
      "include_colab_link": true
    },
    "kernelspec": {
      "name": "python3",
      "display_name": "Python 3"
    }
  },
  "cells": [
    {
      "cell_type": "markdown",
      "metadata": {
        "id": "view-in-github",
        "colab_type": "text"
      },
      "source": [
        "<a href=\"https://colab.research.google.com/github/gabolargacha1/prog/blob/master/2Clase.ipynb\" target=\"_parent\"><img src=\"https://colab.research.google.com/assets/colab-badge.svg\" alt=\"Open In Colab\"/></a>"
      ]
    },
    {
      "cell_type": "code",
      "metadata": {
        "id": "tymaIQxAstoM",
        "colab_type": "code",
        "colab": {}
      },
      "source": [
        "import cv2\n",
        "import tensorflow\n",
        "import torch\n",
        "import numpy"
      ],
      "execution_count": 0,
      "outputs": []
    },
    {
      "cell_type": "code",
      "metadata": {
        "id": "BLhxzAv5wv5P",
        "colab_type": "code",
        "outputId": "8186e2bc-55ab-4bce-c015-3b6ffc1bcc85",
        "colab": {
          "base_uri": "https://localhost:8080/",
          "height": 34
        }
      },
      "source": [
        "x= \"\"\n",
        "print(\"zzz=\",x)"
      ],
      "execution_count": 0,
      "outputs": [
        {
          "output_type": "stream",
          "text": [
            "zzz= \n"
          ],
          "name": "stdout"
        }
      ]
    },
    {
      "cell_type": "code",
      "metadata": {
        "id": "C7s36Uq0zMR0",
        "colab_type": "code",
        "outputId": "1f9ebf07-2e0d-429d-ec54-e92018013ab4",
        "colab": {
          "base_uri": "https://localhost:8080/",
          "height": 85
        }
      },
      "source": [
        "y=[1,2,3,4,5]\n",
        "print(y[0])\n",
        "y[0]=10\n",
        "print(y)\n",
        "y.append(-5)\n",
        "print(y)\n",
        "y.remove(4)\n",
        "print(y)"
      ],
      "execution_count": 0,
      "outputs": [
        {
          "output_type": "stream",
          "text": [
            "1\n",
            "[10, 2, 3, 4, 5]\n",
            "[10, 2, 3, 4, 5, -5]\n",
            "[10, 2, 3, 5, -5]\n"
          ],
          "name": "stdout"
        }
      ]
    },
    {
      "cell_type": "code",
      "metadata": {
        "id": "TKlWfuG_2PZq",
        "colab_type": "code",
        "outputId": "8365fc95-def6-4673-e355-57be3b9b7b5a",
        "colab": {
          "base_uri": "https://localhost:8080/",
          "height": 34
        }
      },
      "source": [
        "def peri(l):\n",
        "  s=l*4\n",
        "   \n",
        "  return s\n",
        "def area(l):\n",
        "  p = l*l\n",
        "  return p \n",
        "\n",
        "def cuadrado(l):\n",
        "  return peri(l),area(l)\n",
        "\n",
        "cuadrado(5)\n"
      ],
      "execution_count": 0,
      "outputs": [
        {
          "output_type": "execute_result",
          "data": {
            "text/plain": [
              "(20, 25)"
            ]
          },
          "metadata": {
            "tags": []
          },
          "execution_count": 22
        }
      ]
    },
    {
      "cell_type": "code",
      "metadata": {
        "id": "9TVDkxTd32B3",
        "colab_type": "code",
        "outputId": "7d1b2718-35c9-4318-e6a5-313ba590dd73",
        "colab": {
          "base_uri": "https://localhost:8080/",
          "height": 34
        }
      },
      "source": [
        "def peri(l,e):\n",
        "  s=2*l+2*e\n",
        "   \n",
        "  return s\n",
        "def area(l,e):\n",
        "  p = l*e\n",
        "  return p \n",
        "\n",
        "def triangulo(l,e):\n",
        "  return peri(l,e),area(l,e)\n",
        "\n",
        "def vago():\n",
        "  pass \n",
        "\n",
        "triangulo(5,6)"
      ],
      "execution_count": 0,
      "outputs": [
        {
          "output_type": "execute_result",
          "data": {
            "text/plain": [
              "(11, 30)"
            ]
          },
          "metadata": {
            "tags": []
          },
          "execution_count": 24
        }
      ]
    }
  ]
}